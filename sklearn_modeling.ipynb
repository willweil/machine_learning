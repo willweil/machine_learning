Modeling templates with scikit-lean (sklearn).
